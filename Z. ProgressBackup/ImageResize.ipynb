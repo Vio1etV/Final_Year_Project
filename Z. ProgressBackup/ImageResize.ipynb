{
 "cells": [
  {
   "cell_type": "code",
   "execution_count": 3,
   "id": "d0190366-0ce6-4718-8e91-820d559a0572",
   "metadata": {},
   "outputs": [],
   "source": [
    "import os\n",
    "from PIL import Image\n",
    "\n",
    "# 源数据集的根目录\n",
    "source_root = '/root/BreastCancer/400X/'\n",
    "# 目标数据集的根目录\n",
    "target_root = '/root/BreastCancer/BCResize/400X/'\n",
    "\n",
    "# 确保目标根目录存在\n",
    "os.makedirs(target_root, exist_ok=True)\n",
    "\n",
    "# 分别遍历训练集和测试集\n",
    "for dataset_type in ['train', 'test']:\n",
    "    # 确保目标的train/test目录存在\n",
    "    os.makedirs(os.path.join(target_root, dataset_type), exist_ok=True)\n",
    "    \n",
    "    # 遍历良性和恶性文件夹\n",
    "    for category in ['benign', 'malignant']:\n",
    "        # 确保目标的benign/malignant目录存在\n",
    "        target_category_path = os.path.join(target_root, dataset_type, category)\n",
    "        os.makedirs(target_category_path, exist_ok=True)\n",
    "\n",
    "        # 源的benign/malignant目录路径\n",
    "        source_category_path = os.path.join(source_root, dataset_type, category)\n",
    "        \n",
    "        # 遍历文件夹中的所有图片\n",
    "        for image_name in os.listdir(source_category_path):\n",
    "            source_image_path = os.path.join(source_category_path, image_name)\n",
    "            target_image_path = os.path.join(target_category_path, image_name)\n",
    "            \n",
    "            # 读取图片\n",
    "            image = Image.open(source_image_path)\n",
    "            \n",
    "            # 调整图片大小至224x224\n",
    "            resized_image = image.resize((224, 224))\n",
    "            \n",
    "            # 保存处理后的图片到目标路径\n",
    "            resized_image.save(target_image_path)\n",
    "\n",
    "            # print(f'Saved resized image to {target_image_path}')\n"
   ]
  },
  {
   "cell_type": "code",
   "execution_count": null,
   "id": "0a9aaead-2912-4463-84f8-f42105425fbd",
   "metadata": {},
   "outputs": [],
   "source": []
  }
 ],
 "metadata": {
  "kernelspec": {
   "display_name": "Python 3 (ipykernel)",
   "language": "python",
   "name": "python3"
  },
  "language_info": {
   "codemirror_mode": {
    "name": "ipython",
    "version": 3
   },
   "file_extension": ".py",
   "mimetype": "text/x-python",
   "name": "python",
   "nbconvert_exporter": "python",
   "pygments_lexer": "ipython3",
   "version": "3.8.10"
  }
 },
 "nbformat": 4,
 "nbformat_minor": 5
}
