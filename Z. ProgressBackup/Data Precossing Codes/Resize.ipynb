{
 "cells": [
  {
   "cell_type": "code",
   "execution_count": 1,
   "id": "bf17fdd2-c1a7-4967-bf56-3bedfca09347",
   "metadata": {},
   "outputs": [
    {
     "name": "stderr",
     "output_type": "stream",
     "text": [
      "/tmp/ipykernel_14233/3772180657.py:9: DeprecationWarning: ANTIALIAS is deprecated and will be removed in Pillow 10 (2023-07-01). Use Resampling.LANCZOS instead.\n",
      "  img_resized = img.resize(size, Image.ANTIALIAS)\n"
     ]
    },
    {
     "name": "stdout",
     "output_type": "stream",
     "text": [
      "所有图片已调整大小并保存至目标文件夹。\n"
     ]
    }
   ],
   "source": [
    "from PIL import Image\n",
    "import os\n",
    "\n",
    "def resize_image(image_path, output_path, size=(224, 224)):\n",
    "    \"\"\"\n",
    "    调整图片大小并保存到指定路径。\n",
    "    \"\"\"\n",
    "    with Image.open(image_path) as img:\n",
    "        img_resized = img.resize(size, Image.ANTIALIAS)\n",
    "        img_resized.save(output_path)\n",
    "\n",
    "def resize_images_in_folder(source_folder, destination_folder, size=(224, 224)):\n",
    "    \"\"\"\n",
    "    遍历源文件夹中的所有图片文件，并将它们调整大小后保存到目标文件夹中。\n",
    "    \"\"\"\n",
    "    for subdir, dirs, files in os.walk(source_folder):\n",
    "        for file in files:\n",
    "            # 检查文件是否是图片\n",
    "            if file.lower().endswith(('.png', '.jpg', '.jpeg', '.bmp', '.gif')):\n",
    "                # 构建完整的文件路径\n",
    "                source_path = os.path.join(subdir, file)\n",
    "                \n",
    "                # 构建目标文件路径，保持与源文件夹相同的目录结构\n",
    "                relative_path = os.path.relpath(subdir, source_folder)\n",
    "                destination_subdir = os.path.join(destination_folder, relative_path)\n",
    "                os.makedirs(destination_subdir, exist_ok=True)\n",
    "                destination_path = os.path.join(destination_subdir, file)\n",
    "                \n",
    "                # 调整图片大小并保存\n",
    "                resize_image(source_path, destination_path, size)\n",
    "\n",
    "# 设置源文件夹和目标文件夹路径\n",
    "source_folder = r'/root/Breast Cancer/Datasets/40X'  # 源文件夹路径，包含原始图片\n",
    "destination_folder = r'/root/Breast Cancer/Datasets/40XResized'  # 目标文件夹路径，保存调整大小后的图片\n",
    "\n",
    "resize_images_in_folder(source_folder, destination_folder)\n",
    "print(\"所有图片已调整大小并保存至目标文件夹。\")\n"
   ]
  },
  {
   "cell_type": "code",
   "execution_count": null,
   "id": "a30bb3d9-54b8-45fd-855a-d13c9d3c86d5",
   "metadata": {},
   "outputs": [],
   "source": []
  }
 ],
 "metadata": {
  "kernelspec": {
   "display_name": "Python 3 (ipykernel)",
   "language": "python",
   "name": "python3"
  },
  "language_info": {
   "codemirror_mode": {
    "name": "ipython",
    "version": 3
   },
   "file_extension": ".py",
   "mimetype": "text/x-python",
   "name": "python",
   "nbconvert_exporter": "python",
   "pygments_lexer": "ipython3",
   "version": "3.8.10"
  }
 },
 "nbformat": 4,
 "nbformat_minor": 5
}
