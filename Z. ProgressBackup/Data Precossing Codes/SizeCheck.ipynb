{
 "cells": [
  {
   "cell_type": "code",
   "execution_count": 4,
   "id": "423dd9c1-b1f8-4bec-b5b4-fd5fb2282a60",
   "metadata": {},
   "outputs": [
    {
     "name": "stdout",
     "output_type": "stream",
     "text": [
      "Height: 224, Width: 224, Channels: 3\n"
     ]
    }
   ],
   "source": [
    "import tensorflow as tf\n",
    "\n",
    "# 加载图像文件\n",
    "image_file = '/root/Breast Cancer/Datasets/40XResized/train/malignant/SOB_M_DC-14-16448-40-007.png'\n",
    "image = tf.io.read_file(image_file)\n",
    "image = tf.image.decode_image(image)\n",
    "\n",
    "# 使用tf.shape获取图像的形状\n",
    "shape = tf.shape(image)\n",
    "height, width, channels = shape[0], shape[1], shape[2]\n",
    "\n",
    "print(f'Height: {height}, Width: {width}, Channels: {channels}')\n"
   ]
  },
  {
   "cell_type": "code",
   "execution_count": null,
   "id": "07c5c238-f0cf-452a-bc3b-1dcce2934750",
   "metadata": {},
   "outputs": [],
   "source": []
  }
 ],
 "metadata": {
  "kernelspec": {
   "display_name": "Python 3 (ipykernel)",
   "language": "python",
   "name": "python3"
  },
  "language_info": {
   "codemirror_mode": {
    "name": "ipython",
    "version": 3
   },
   "file_extension": ".py",
   "mimetype": "text/x-python",
   "name": "python",
   "nbconvert_exporter": "python",
   "pygments_lexer": "ipython3",
   "version": "3.8.10"
  }
 },
 "nbformat": 4,
 "nbformat_minor": 5
}
